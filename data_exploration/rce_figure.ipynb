{
 "cells": [
  {
   "cell_type": "code",
   "execution_count": 1,
   "metadata": {
    "collapsed": false
   },
   "outputs": [
    {
     "name": "stdout",
     "output_type": "stream",
     "text": [
      "Populating the interactive namespace from numpy and matplotlib\n"
     ]
    },
    {
     "data": {
      "text/plain": [
       "<matplotlib.figure.Figure at 0x7f0c00dfe310>"
      ]
     },
     "metadata": {},
     "output_type": "display_data"
    }
   ],
   "source": [
    "import numpy as np\n",
    "from scipy.stats import gaussian_kde\n",
    "import matplotlib.mlab as mlab\n",
    "import matplotlib.pyplot as plt\n",
    "\n",
    "%pylab inline\n",
    "\n",
    "mpl.rcParams[\"axes.linewidth\"] = 3\n",
    "\n",
    "# 主要类数据\n",
    "mu_major = 100  \n",
    "sigma_major = 15 \n",
    "x_major = mu_major + sigma_major * np.random.randn(15000)\n",
    "\n",
    "# 稀有类数据\n",
    "mu_rare = 70  \n",
    "x_rare = mu_rare + 1 * np.random.randn(1000)\n",
    "\n",
    "data = np.append(x_rare, x_major)\n",
    "density = gaussian_kde(data)\n",
    "x = np.linspace(30, 180, 3000)\n",
    "fig = plt.figure()"
   ]
  },
  {
   "cell_type": "code",
   "execution_count": 55,
   "metadata": {
    "collapsed": false
   },
   "outputs": [],
   "source": [
    "#x_density = np.loadtxt(\"/home/haiqw/Documents/my_projects/iforest/rank.txt\")\n",
    "np.savetxt(X=x_rare, fname=\"/home/haiqw/Documents/my_projects/iforest/test/rare2.txt\")\n",
    "np.savetxt(X=x_major, fname=\"/home/haiqw/Documents/my_projects/iforest/test/major.txt\")"
   ]
  },
  {
   "cell_type": "code",
   "execution_count": 49,
   "metadata": {
    "collapsed": false
   },
   "outputs": [
    {
     "data": {
      "text/plain": [
       "array([  94.97165722,   94.57152384,   95.07169056,  101.22374125,\n",
       "        101.07369123,  101.1237079 ,  101.17372457,  100.97365789,\n",
       "        101.02367456,  104.02467489,  104.32477492,  104.27475825,\n",
       "        104.22474158,  104.17472491,  104.07469156,  104.12470824,\n",
       "         86.61887296,   86.51883961,   86.46882294,   86.76892297,\n",
       "         86.81893965,   86.86895632,   86.91897299,   86.41880627,\n",
       "         86.3687896 ,   86.31877292,   86.26875625,   86.56885629,\n",
       "         86.7189063 ,   86.66888963,   87.01900634,   88.36945649,\n",
       "         88.31943981,   88.26942314,   88.21940647,   88.1693898 ,\n",
       "         88.11937312,   88.06935645,   86.96898966,   88.01933978,\n",
       "         87.96932311,   87.91930644,   87.86928976,   87.81927309,\n",
       "         87.41913971,   87.71923975,   87.76925642,   87.36912304,\n",
       "         87.31910637,   87.21907302,   87.16905635,   87.2690897 ,\n",
       "         87.06902301,   87.51917306,   87.56918973,   87.6192064 ,\n",
       "         87.66922307,   87.11903968,   87.46915639,   70.21340447,\n",
       "         70.46348783,   70.41347116,   70.36345448,   70.31343781,\n",
       "         70.26342114,   69.91330443,   70.11337112,   70.06335445,\n",
       "         70.01333778,   69.96332111,   70.5135045 ,   69.86328776,\n",
       "         69.81327109,   70.1633878 ,   70.56352117,   70.71357119,\n",
       "         70.66355452,   71.81393798,   71.76392131,   71.71390463,\n",
       "         71.66388796,   71.61387129,   71.56385462,   71.51383795,\n",
       "         71.46382127,   71.4138046 ,   71.36378793,   71.31377126,\n",
       "         71.26375458,   71.21373791,   71.16372124,   71.0636879 ,\n",
       "         71.01367122,   70.96365455,   70.91363788,   70.86362121,\n",
       "         70.81360453,   70.76358786,   70.61353785,   71.11370457])"
      ]
     },
     "execution_count": 49,
     "metadata": {},
     "output_type": "execute_result"
    }
   ],
   "source": [
    "idx = np.argsort(x_density)\n",
    "x[idx[2900:3000]]"
   ]
  },
  {
   "cell_type": "code",
   "execution_count": 50,
   "metadata": {
    "collapsed": false
   },
   "outputs": [
    {
     "data": {
      "image/png": "[encoded data removed]",
      "text/plain": [
       "<matplotlib.figure.Figure at 0x7f07ef0d4a90>"
      ]
     },
     "metadata": {},
     "output_type": "display_data"
    }
   ],
   "source": [
    "x = np.linspace(30, 180, 3000)\n",
    "plt.figure()\n",
    "plt.plot(x, x_density, 'black', linewidth=2, label='Fast-RCD Density')\n",
    "plt.subplots_adjust(left=0.15)\n",
    "legend = plt.legend(loc=\"best\")\n",
    "legend.get_frame().set_linewidth(2)\n",
    "plt.xticks([])\n",
    "#plt.ylim([0, 0.037])\n",
    "plt.yticks([])\n",
    "plt.legend()\n",
    "plt.savefig(\"/home/haiqw/Documents/my_papers/rare_trees/pic/fast_rcd_density.eps\", format=\"eps\", dpi=1200, bbox_inches=\"tight\")"
   ]
  },
  {
   "cell_type": "code",
   "execution_count": 56,
   "metadata": {
    "collapsed": false
   },
   "outputs": [
    {
     "data": {
      "image/png": "[encoded data removed]",
      "text/plain": [
       "<matplotlib.figure.Figure at 0x7f07eef1e510>"
      ]
     },
     "metadata": {},
     "output_type": "display_data"
    }
   ],
   "source": [
    "plt.figure()\n",
    "plt.plot(x, density(x), 'black', linewidth=2, label='KDE Density')\n",
    "plt.subplots_adjust(left=0.15)\n",
    "legend = plt.legend(loc=\"best\")\n",
    "legend.get_frame().set_linewidth(2)\n",
    "# plt.xticks([])\n",
    "plt.ylim([0, 0.032])\n",
    "plt.yticks([])\n",
    "plt.legend()\n",
    "plt.savefig(\"/home/haiqw/Documents/my_papers/rare_trees/pic/kde_density.eps\", format=\"eps\", dpi=1200, bbox_inches=\"tight\")"
   ]
  },
  {
   "cell_type": "code",
   "execution_count": 125,
   "metadata": {
    "collapsed": false
   },
   "outputs": [],
   "source": [
    "a = (15.0/16.0) * (1.0 / (np.sqrt(2 * 3.1415) * 15)) * np.exp(-(x-100) * (x-100) / (2.0 * 15.0 * 15.0)) +  (1.0/16.0)  * (1.0 / (np.sqrt(2 * 3.1415) * 1.0)) * np.exp(-(x - 70) * (x - 70) / (2.0 * 1.0 * 1.0))"
   ]
  },
  {
   "cell_type": "code",
   "execution_count": 145,
   "metadata": {
    "collapsed": false
   },
   "outputs": [
    {
     "data": {
      "image/png": "[encoded data removed]",
      "text/plain": [
       "<matplotlib.figure.Figure at 0x7f211da07f90>"
      ]
     },
     "metadata": {},
     "output_type": "display_data"
    }
   ],
   "source": [
    "x = np.linspace(30, 180, 6000)\n",
    "plt.figure()\n",
    "plt.plot(x, a, 'black', linewidth=2, label='True Density')\n",
    "plt.subplots_adjust(left=0.15)\n",
    "legend = plt.legend(loc=\"best\")\n",
    "legend.get_frame().set_linewidth(2)\n",
    "plt.xticks([])\n",
    "plt.yticks([])\n",
    "#plt.ylim([0, 0.035])\n",
    "plt.legend()\n",
    "plt.savefig(\"/home/haiqw/Documents/my_papers/rare_trees/pic/true_density.eps\", format=\"eps\", dpi=1200, bbox_inches=\"tight\")"
   ]
  },
  {
   "cell_type": "code",
   "execution_count": null,
   "metadata": {
    "collapsed": true
   },
   "outputs": [],
   "source": []
  }
 ],
 "metadata": {
  "kernelspec": {
   "display_name": "Python 2",
   "language": "python",
   "name": "python2"
  },
  "language_info": {
   "codemirror_mode": {
    "name": "ipython",
    "version": 2
   },
   "file_extension": ".py",
   "mimetype": "text/x-python",
   "name": "python",
   "nbconvert_exporter": "python",
   "pygments_lexer": "ipython2",
   "version": "2.7.10"
  }
 },
 "nbformat": 4,
 "nbformat_minor": 0
}
