{
 "cells": [
  {
   "cell_type": "markdown",
   "metadata": {},
   "source": [
    "## Generative model for synthetic datasets with varying dimensions"
   ]
  },
  {
   "cell_type": "code",
   "execution_count": 1,
   "metadata": {
    "collapsed": false
   },
   "outputs": [
    {
     "name": "stdout",
     "output_type": "stream",
     "text": [
      "Populating the interactive namespace from numpy and matplotlib\n"
     ]
    }
   ],
   "source": [
    "import numpy as np\n",
    "import matplotlib.pyplot as plt\n",
    "import seaborn as sns\n",
    "import matplotlib as mpl\n",
    "\n",
    "from sklearn.cluster import KMeans\n",
    "from sklearn.datasets import make_blobs\n",
    "from sklearn import datasets\n",
    "\n",
    "%pylab inline"
   ]
  },
  {
   "cell_type": "code",
   "execution_count": null,
   "metadata": {
    "collapsed": true
   },
   "outputs": [],
   "source": [
    "def datasets_generator(n_major_samples, n_rare_samples, n_dimensions):\n",
    "    \"\"\" Generative model for synthetic datasets with scaled size, dimensionality \"\"\"\n",
    "    random_state = np.random.RandomState(42)\n",
    "\n",
    "    rare_cluster = np.random.multivariate_normal([0, 0], [[8, 0], [0, 16]], n_cluster_samples)\n",
    "    major_cluster = np.random.multivariate_normal([6, 6], [[0.001, 0], [0, 0.001]], n_noises)\n",
    "    total = np.append(x, y, axis=0)\n",
    "\n",
    "    # random sample\n",
    "    sum_list = np.linspace(0, total.shape[0] - 1, total.shape[0])\n",
    "    np.random.shuffle(sum_list)\n",
    "    samples = total[list(sum_list[0:int(total.shape[0] * 0.1)]), :]\n",
    "\n",
    "    # total.shape\n",
    "    np.savetxt(X=total[:, 0], fname=\"/home/haiqw/data/toy_dataset/toy_dataset_1.txt\", fmt=\"%.4f\", delimiter=\" \")\n",
    "    np.savetxt(X=samples[:, 1], fname=\"/home/haiqw/data/toy_dataset/toy_dataset_2.txt\", fmt=\"%.4f\", delimiter=\" \")"
   ]
  },
  {
   "cell_type": "code",
   "execution_count": null,
   "metadata": {
    "collapsed": true
   },
   "outputs": [],
   "source": [
    "file_to_save = \"/home/haiqw/data/toy_dataset/1_dimensional_synthetic_dataset.txt\""
   ]
  }
 ],
 "metadata": {
  "kernelspec": {
   "display_name": "Python 2",
   "language": "python",
   "name": "python2"
  },
  "language_info": {
   "codemirror_mode": {
    "name": "ipython",
    "version": 2
   },
   "file_extension": ".py",
   "mimetype": "text/x-python",
   "name": "python",
   "nbconvert_exporter": "python",
   "pygments_lexer": "ipython2",
   "version": "2.7.10"
  }
 },
 "nbformat": 4,
 "nbformat_minor": 0
}
