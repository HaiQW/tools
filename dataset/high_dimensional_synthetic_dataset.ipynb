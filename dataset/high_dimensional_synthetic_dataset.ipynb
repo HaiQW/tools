{
 "cells": [
  {
   "cell_type": "markdown",
   "metadata": {},
   "source": [
    "## Generative model for synthetic datasets with varying dimensions"
   ]
  },
  {
   "cell_type": "code",
   "execution_count": 1,
   "metadata": {
    "collapsed": false
   },
   "outputs": [
    {
     "name": "stdout",
     "output_type": "stream",
     "text": [
      "Populating the interactive namespace from numpy and matplotlib\n"
     ]
    }
   ],
   "source": [
    "import numpy as np\n",
    "import matplotlib.pyplot as plt\n",
    "import seaborn as sns\n",
    "import matplotlib as mpl\n",
    "\n",
    "from sklearn.cluster import KMeans\n",
    "from sklearn.datasets import make_blobs\n",
    "from sklearn import datasets\n",
    "\n",
    "%pylab inline"
   ]
  },
  {
   "cell_type": "code",
   "execution_count": 51,
   "metadata": {
    "collapsed": true
   },
   "outputs": [],
   "source": [
    "def datasets_generator(n_major_samples, n_rare_samples, n_dimensions):\n",
    "    \"\"\" Generative model for synthetic datasets with scaled size, dimensionality \"\"\"\n",
    "    random_state = np.random.RandomState(42)\n",
    "\n",
    "    # generate two clusters \n",
    "    major_cluster = np.random.multivariate_normal([0, 0], [[10000, 0], [0, 10000]], n_major_samples)\n",
    "    rare_cluster = np.random.multivariate_normal([600, 600], [[0.00001, 0], [0, 0.00001]], n_rare_samples)\n",
    "    dataset = np.append(rare_cluster, major_cluster, axis=0)\n",
    "    labelset = np.ones(dataset.shape[0])\n",
    "    labelset[0:n_rare_samples] = 0\n",
    "    labelset = np.reshape(labelset, newshape=(dataset.shape[0], 1))\n",
    "    \n",
    "    # add the additional dimensions\n",
    "    if (n_dimensions > 2):\n",
    "        additional_data = np.random.uniform(-300, 300, (dataset.shape[0], n_dimensions - 2))\n",
    "        dataset = np.append(dataset, additional_data, axis=1)\n",
    "\n",
    "    # total.shape\n",
    "    return dataset, labelset"
   ]
  },
  {
   "cell_type": "code",
   "execution_count": 67,
   "metadata": {
    "collapsed": false
   },
   "outputs": [],
   "source": [
    "dataset, labelset = datasets_generator(100000, 3000, 5)\n",
    "data_to_save = np.append(dataset, labelset, axis=1)\n",
    "file_to_save = \"/home/haiqw/Documents/my_projects/iforest/test/5_dimensional_synthetic_dataset.txt\"\n",
    "np.savetxt(X=data_to_save, fname=file_to_save, fmt=\"%.4f\")"
   ]
  },
  {
   "cell_type": "code",
   "execution_count": 64,
   "metadata": {
    "collapsed": true
   },
   "outputs": [],
   "source": [
    "dataset, labelset = datasets_generator(100000, 3000, 10)\n",
    "data_to_save = np.append(dataset, labelset, axis=1)\n",
    "file_to_save = \"/home/haiqw/Documents/my_projects/iforest/test/10_dimensional_synthetic_dataset.txt\"\n",
    "np.savetxt(X=data_to_save, fname=file_to_save, fmt=\"%.4f\")"
   ]
  },
  {
   "cell_type": "code",
   "execution_count": 69,
   "metadata": {
    "collapsed": true
   },
   "outputs": [],
   "source": [
    "dataset, labelset = datasets_generator(100000, 3000, 15)\n",
    "data_to_save = np.append(dataset, labelset, axis=1)\n",
    "file_to_save = \"/home/haiqw/Documents/my_projects/iforest/test/15_dimensional_synthetic_dataset.txt\"\n",
    "np.savetxt(X=data_to_save, fname=file_to_save, fmt=\"%.4f\")"
   ]
  },
  {
   "cell_type": "code",
   "execution_count": 65,
   "metadata": {
    "collapsed": true
   },
   "outputs": [],
   "source": [
    "dataset, labelset = datasets_generator(100000, 3000, 20)\n",
    "data_to_save = np.append(dataset, labelset, axis=1)\n",
    "file_to_save = \"/home/haiqw/Documents/my_projects/iforest/test/20_dimensional_synthetic_dataset.txt\"\n",
    "np.savetxt(X=data_to_save, fname=file_to_save, fmt=\"%.4f\")"
   ]
  },
  {
   "cell_type": "code",
   "execution_count": 73,
   "metadata": {
    "collapsed": true
   },
   "outputs": [],
   "source": [
    "dataset, labelset = datasets_generator(100000, 3000, 25)\n",
    "data_to_save = np.append(dataset, labelset, axis=1)\n",
    "file_to_save = \"/home/haiqw/Documents/my_projects/iforest/test/25_dimensional_synthetic_dataset.txt\"\n",
    "np.savetxt(X=data_to_save, fname=file_to_save, fmt=\"%.4f\")"
   ]
  },
  {
   "cell_type": "code",
   "execution_count": 71,
   "metadata": {
    "collapsed": true
   },
   "outputs": [],
   "source": [
    "dataset, labelset = datasets_generator(100000, 3000, 30)\n",
    "data_to_save = np.append(dataset, labelset, axis=1)\n",
    "file_to_save = \"/home/haiqw/Documents/my_projects/iforest/test/30_dimensional_synthetic_dataset.txt\"\n",
    "np.savetxt(X=data_to_save, fname=file_to_save, fmt=\"%.4f\")"
   ]
  },
  {
   "cell_type": "code",
   "execution_count": 72,
   "metadata": {
    "collapsed": true
   },
   "outputs": [],
   "source": [
    "dataset, labelset = datasets_generator(100000, 3000, 35)\n",
    "data_to_save = np.append(dataset, labelset, axis=1)\n",
    "file_to_save = \"/home/haiqw/Documents/my_projects/iforest/test/35_dimensional_synthetic_dataset.txt\"\n",
    "np.savetxt(X=data_to_save, fname=file_to_save, fmt=\"%.4f\")"
   ]
  },
  {
   "cell_type": "code",
   "execution_count": 66,
   "metadata": {
    "collapsed": true
   },
   "outputs": [],
   "source": [
    "dataset, labelset = datasets_generator(100000, 3000, 40)\n",
    "data_to_save = np.append(dataset, labelset, axis=1)\n",
    "file_to_save = \"/home/haiqw/Documents/my_projects/iforest/test/40_dimensional_synthetic_dataset.txt\"\n",
    "np.savetxt(X=data_to_save, fname=file_to_save, fmt=\"%.4f\")"
   ]
  },
  {
   "cell_type": "code",
   "execution_count": null,
   "metadata": {
    "collapsed": true
   },
   "outputs": [],
   "source": []
  }
 ],
 "metadata": {
  "kernelspec": {
   "display_name": "Python 2",
   "language": "python",
   "name": "python2"
  },
  "language_info": {
   "codemirror_mode": {
    "name": "ipython",
    "version": 2
   },
   "file_extension": ".py",
   "mimetype": "text/x-python",
   "name": "python",
   "nbconvert_exporter": "python",
   "pygments_lexer": "ipython2",
   "version": "2.7.10"
  }
 },
 "nbformat": 4,
 "nbformat_minor": 0
}
