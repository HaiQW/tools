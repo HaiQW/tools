{
 "metadata": {
  "name": "",
  "signature": "sha256:ec636b922c95f06a296147f9ef6def9c6226213a3eabbdb1081c8e6f6f072372"
 },
 "nbformat": 3,
 "nbformat_minor": 0,
 "worksheets": [
  {
   "cells": [
    {
     "cell_type": "code",
     "collapsed": false,
     "input": [
      "import numpy as np\n",
      "from scipy.stats import gaussian_kde\n",
      "import matplotlib.mlab as mlab\n",
      "import matplotlib.pyplot as plt\n",
      "\n",
      "\n",
      "# \u4e3b\u8981\u7c7b\u6570\u636e\n",
      "mu_major = 100  \n",
      "sigma_major = 15 \n",
      "x_major = mu_major + sigma_major * np.random.randn(15000)\n",
      "\n",
      "# \u7a00\u6709\u7c7b\u6570\u636e\n",
      "mu_rare = 70  \n",
      "x_rare = mu_rare + 0.01*np.random.randn(1000)\n",
      "\n",
      "data = np.append(x_rare, x_major)\n",
      "density = gaussian_kde(data)\n",
      "x = linspace(30, 180, 3000)\n",
      "fig = plt.figure()\n",
      "plt.plot(x, density(x), 'b', linewidth=2)\n",
      "\n",
      "plt.subplots_adjust(left=0.15)\n",
      "plt.show()"
     ],
     "language": "python",
     "metadata": {},
     "outputs": [
      {
       "metadata": {},
       "output_type": "display_data",
       "png": "[encoded data removed]",
       "text": [
        "<matplotlib.figure.Figure at 0x7fce600fa510>"
       ]
      }
     ],
     "prompt_number": 61
    },
    {
     "cell_type": "code",
     "collapsed": false,
     "input": [
      "fig.savefig('/home/haiqw/Documents/my_papers/homework/pic/rce_hist.eps',format='eps', bbox_inches='tight', dpi=1200)\n",
      "plt.close()"
     ],
     "language": "python",
     "metadata": {},
     "outputs": [],
     "prompt_number": 67
    },
    {
     "cell_type": "code",
     "collapsed": false,
     "input": [],
     "language": "python",
     "metadata": {},
     "outputs": [],
     "prompt_number": 62
    },
    {
     "cell_type": "code",
     "collapsed": false,
     "input": [],
     "language": "python",
     "metadata": {},
     "outputs": []
    }
   ],
   "metadata": {}
  }
 ]
}