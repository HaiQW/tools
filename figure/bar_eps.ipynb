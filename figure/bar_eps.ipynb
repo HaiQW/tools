{
 "cells": [
  {
   "cell_type": "code",
   "execution_count": 12,
   "metadata": {
    "collapsed": false
   },
   "outputs": [
    {
     "name": "stdout",
     "output_type": "stream",
     "text": [
      "Populating the interactive namespace from numpy and matplotlib\n"
     ]
    }
   ],
   "source": [
    "import matplotlib.pyplot as plt\n",
    "import numpy as np\n",
    "import matplotlib as mpl\n",
    "\n",
    "mpl.rcParams[\"axes.linewidth\"] = 3\n",
    "% pylab inline\n",
    "% matplotlib inline"
   ]
  },
  {
   "cell_type": "code",
   "execution_count": 13,
   "metadata": {
    "collapsed": true
   },
   "outputs": [],
   "source": [
    "def draw_bar_with_error(algs, performance, error, fname):\n",
    "    \"\"\" This function is to draw a line chart with the error parameters \n",
    "    and save it if parameter 'frame' is given.\"\"\"\n",
    "    font={\"size\": 17 }\n",
    "    width = 0.5\n",
    "    x_pos = np.arange(len(algs))\n",
    "    plt.figure(figsize=(6, 5))\n",
    "    plt.bar(x_pos, performance, yerr=error, width=width, ecolor=\"red\", \n",
    "            edgecolor=\"blue\", linewidth=3, color=\"white\")\n",
    "    plt.xlim([-0.5, len(algs)])\n",
    "    plt.xticks(x_pos + width/2., algs, fontsize=16)\n",
    "    plt.xticks(fontsize=16)\n",
    "    \n",
    "    yticss = np.arange(plt.ylim()[0], plt.ylim()[1] + 0.2, 0.2)\n",
    "    plt.yticks(yticss, fontsize=16)\n",
    "    plt.ylabel(\"F-score\", fontdict=font)\n",
    "    plt.savefig(fname, format=\"eps\", \n",
    "                dpi=1200, bbox_inches=\"tight\")\n",
    "    \n",
    "    plt.show()"
   ]
  },
  {
   "cell_type": "code",
   "execution_count": 14,
   "metadata": {
    "collapsed": true
   },
   "outputs": [],
   "source": [
    "def draw_bar_without_error(algs, performance, fname):\n",
    "    \"\"\" This function is to draw a bar chart and save it\n",
    "    if parameter 'frame' is given.\"\"\"\n",
    "    font={\"size\": 17 }\n",
    "    width = 0.5\n",
    "    x_pos = np.arange(len(algs))\n",
    "    plt.figure(figsize=(6, 5))\n",
    "    plt.bar(x_pos, performance, width=width, ecolor=\"red\", \n",
    "            edgecolor=\"blue\", linewidth=3, color=\"white\")\n",
    "    plt.xlim([-0.5, len(algs)])\n",
    "    plt.xticks(x_pos + width/2., algs, fontsize=16)\n",
    "    plt.xticks(fontsize=16)\n",
    "    \n",
    "    yticss = np.arange(plt.ylim()[0], plt.ylim()[1] + 0.2, 0.2)\n",
    "    plt.yticks(yticss, fontsize=16)\n",
    "    plt.ylabel(\"F-score\", fontdict=font)\n",
    "    plt.savefig(fname, format=\"eps\", \n",
    "                dpi=1200, bbox_inches=\"tight\")\n",
    "    \n",
    "    plt.show()"
   ]
  },
  {
   "cell_type": "code",
   "execution_count": 15,
   "metadata": {
    "collapsed": true
   },
   "outputs": [],
   "source": [
    "def draw_line(n_performance, noise_level, fname=None):     \n",
    "    \"\"\" This function is to draw a line chart and save it \n",
    "    if parameter 'frame' is given.\"\"\"\n",
    "    font={\"size\": 17 }\n",
    "    # draw lines \n",
    "    plt.figure(figsize=(7, 6))\n",
    "    for alg in n_performance:\n",
    "        tmp = n_performance[alg]\n",
    "        plt.plot(noise_level, tmp[\"fscore\"], marker=tmp[\"markerstyle\"], ls=tmp[\"linestyle\"],\n",
    "                 color=tmp[\"color\"], linewidth=2, markersize=10, markeredgewidth=2, \n",
    "                 markeredgecolor=tmp[\"color\"], markerfacecolor=\"white\", label=alg)\n",
    "        \n",
    "    # set figure style\n",
    "    xlabel = str(noise_level).replace(\"[\", \"\").replace(\"]\", \"\").split(\",\")\n",
    "    plt.xticks(np.arange(plt.xlim()[0], plt.xlim()[1] + 0.1, 0.1), fontsize=16)\n",
    "    plt.xlabel(\"Noise Level(%)\", fontdict=font)\n",
    "    plt.xlim(np.min(noise_level), np.max(noise_level))\n",
    "    plt.ylabel(\"F-score\", fontdict=font)    \n",
    "    \n",
    "    plt.yticks(np.arange(0, plt.ylim()[1] + 0.1, 0.2), fontsize=16)\n",
    "\n",
    "    \n",
    "    legend = plt.legend(loc=\"best\", shadow=False)\n",
    "    legend.get_frame().set_linewidth(2)\n",
    "    \n",
    "    # savefig\n",
    "    if fname is not None:\n",
    "        plt.savefig(fname, format=\"eps\", dpi=1200, bbox_inches=\"tight\")\n",
    "    plt.show()"
   ]
  },
  {
   "cell_type": "markdown",
   "metadata": {},
   "source": [
    "## Fast-RCM 实验作图"
   ]
  },
  {
   "cell_type": "code",
   "execution_count": 16,
   "metadata": {
    "collapsed": false
   },
   "outputs": [
    {
     "name": "stdout",
     "output_type": "stream",
     "text": [
      "draw bar of using performance on iris data sets.\n"
     ]
    },
    {
     "data": {
      "image/png": "[encoded data removed]",
      "text/plain": [
       "<matplotlib.figure.Figure at 0x7ff32f7ff2d0>"
      ]
     },
     "metadata": {},
     "output_type": "display_data"
    }
   ],
   "source": [
    "print (\"draw bar of using performance on iris data sets.\")\n",
    "\n",
    "IF = np.array([0.625])\n",
    "FastRCM = np.array([0.9090])\n",
    "FRANK = np.array([0.625])\n",
    "LOF = np.array([0.625])\n",
    "LP = np.array([1])\n",
    "\n",
    "algs = (\"Fast-RCM\", \"IF\", \"FRANK\", \"LOF\", \"LP\")\n",
    "performance = [FastRCM, IF, FRANK, LOF, LP]\n",
    "\n",
    "fname = \"/home/haiqw/Documents/my_papers/rare_trees/pic/bar_iris.eps\"\n",
    "draw_bar_without_error(algs, performance, fname)"
   ]
  },
  {
   "cell_type": "code",
   "execution_count": 17,
   "metadata": {
    "collapsed": false
   },
   "outputs": [
    {
     "name": "stdout",
     "output_type": "stream",
     "text": [
      "draw bar of using performance on breasts data sets.\n"
     ]
    },
    {
     "data": {
      "image/png": "[encoded data removed]",
      "text/plain": [
       "<matplotlib.figure.Figure at 0x7ff32f793190>"
      ]
     },
     "metadata": {},
     "output_type": "display_data"
    }
   ],
   "source": [
    "print (\"draw bar of using performance on breasts data sets.\")\n",
    "\n",
    "IF = np.array([0.24242424242424243])\n",
    "FastRCM = np.array([0.63])\n",
    "FRANK = np.array([0.625])\n",
    "LOF = np.array([0.0])\n",
    "LP = np.array([0.10101010101010101])\n",
    "\n",
    "algs = (\"Fast-RCM\", \"IF\", \"FRANK\", \"LOF\", \"LP\")\n",
    "performance = [FastRCM, IF, FRANK, LOF, LP]\n",
    "\n",
    "fname = \"/home/haiqw/Documents/my_papers/rare_trees/pic/bar_breasts.eps\"\n",
    "draw_bar_without_error(algs, performance, fname)"
   ]
  },
  {
   "cell_type": "code",
   "execution_count": 23,
   "metadata": {
    "collapsed": false
   },
   "outputs": [
    {
     "name": "stdout",
     "output_type": "stream",
     "text": [
      "draw bar of using performance on wine data sets.\n"
     ]
    },
    {
     "data": {
      "image/png": "[encoded data removed]",
      "text/plain": [
       "<matplotlib.figure.Figure at 0x7ff36553d850>"
      ]
     },
     "metadata": {},
     "output_type": "display_data"
    }
   ],
   "source": [
    "print (\"draw bar of using performance on wine data sets.\")\n",
    "\n",
    "IF = np.array([0.36363636363636365])\n",
    "FastRCM = np.array([0.80])\n",
    "FRANK = np.array([0.625])\n",
    "LOF = np.array([0.0])\n",
    "LP = np.array([0.5882352941176471])\n",
    "\n",
    "algs = (\"Fast-RCM\", \"IF\", \"FRANK\", \"LP\")\n",
    "performance = [FastRCM, IF, FRANK, LP]\n",
    "\n",
    "fname = \"/home/haiqw/Documents/my_papers/rare_trees/pic/bar_wine.eps\"\n",
    "draw_bar_without_error(algs, performance, fname)"
   ]
  },
  {
   "cell_type": "code",
   "execution_count": 22,
   "metadata": {
    "collapsed": false
   },
   "outputs": [
    {
     "name": "stdout",
     "output_type": "stream",
     "text": [
      "draw bar of using performance on digits data sets.\n"
     ]
    },
    {
     "data": {
      "image/png": "[encoded data removed]",
      "text/plain": [
       "<matplotlib.figure.Figure at 0x7ff32fa5ea10>"
      ]
     },
     "metadata": {},
     "output_type": "display_data"
    }
   ],
   "source": [
    "print (\"draw bar of using performance on digits data sets.\")\n",
    "\n",
    "IF = np.array([0.7518796992481203])\n",
    "FastRCM = np.array([1])\n",
    "FRANK = np.array([0.625])\n",
    "LOF = np.array([0.7518796992481203])\n",
    "LP = np.array([0.8571428571428572])\n",
    "\n",
    "algs = (\"Fast-RCM\", \"IF\", \"FRANK\", \"LP\")\n",
    "performance = [FastRCM, IF, FRANK, LP]\n",
    "\n",
    "fname = \"/home/haiqw/Documents/my_papers/rare_trees/pic/bar_digits.eps\"\n",
    "draw_bar_without_error(algs, performance, fname)"
   ]
  },
  {
   "cell_type": "code",
   "execution_count": 20,
   "metadata": {
    "collapsed": false
   },
   "outputs": [
    {
     "name": "stdout",
     "output_type": "stream",
     "text": [
      "draw bar of using performance on calls data sets.\n"
     ]
    },
    {
     "data": {
      "image/png": "[encoded data removed]",
      "text/plain": [
       "<matplotlib.figure.Figure at 0x7ff32f710b50>"
      ]
     },
     "metadata": {},
     "output_type": "display_data"
    }
   ],
   "source": [
    "print (\"draw bar of using performance on calls data sets.\")\n",
    "\n",
    "IF = np.array([0.027581612258494342])\n",
    "FastRCM = np.array([0.54])\n",
    "FRANK = np.array([0.625])\n",
    "LOF = np.array([0.024382119778828856])\n",
    "LP = np.array([0.07244543593753594])\n",
    "\n",
    "algs = (\"Fast-RCM\", \"IF\", \"FRANK\", \"LOF\", \"LP\")\n",
    "performance = [FastRCM, IF, FRANK, LOF, LP]\n",
    "\n",
    "fname = \"/home/haiqw/Documents/my_papers/rare_trees/pic/bar_calls.eps\"\n",
    "draw_bar_without_error(algs, performance, fname)"
   ]
  },
  {
   "cell_type": "code",
   "execution_count": 21,
   "metadata": {
    "collapsed": false
   },
   "outputs": [
    {
     "name": "stdout",
     "output_type": "stream",
     "text": [
      "draw bar of using performance on dsaa data sets.\n"
     ]
    },
    {
     "data": {
      "image/png": "[encoded data removed]",
      "text/plain": [
       "<matplotlib.figure.Figure at 0x7ff32fe00b10>"
      ]
     },
     "metadata": {},
     "output_type": "display_data"
    }
   ],
   "source": [
    "print (\"draw bar of using performance on dsaa data sets.\")\n",
    "\n",
    "IF = np.array([0.027581612258494342])\n",
    "FastRCM = np.array([0.54])\n",
    "FRANK = np.array([0.625])\n",
    "LOF = np.array([0.9090])\n",
    "LP = np.array([0.9090])\n",
    "\n",
    "algs = (\"Fast-RCM\", \"IF\", \"FRANK\", \"LOF\", \"LP\")\n",
    "performance = [FastRCM, IF, FRANK, LOF, LP]\n",
    "\n",
    "fname = \"/home/haiqw/Documents/my_papers/rare_trees/pic/bar_dsaa.eps\"\n",
    "draw_bar_without_error(algs, performance, fname)"
   ]
  },
  {
   "cell_type": "code",
   "execution_count": null,
   "metadata": {
    "collapsed": true
   },
   "outputs": [],
   "source": []
  }
 ],
 "metadata": {
  "kernelspec": {
   "display_name": "Python 2",
   "language": "python",
   "name": "python2"
  },
  "language_info": {
   "codemirror_mode": {
    "name": "ipython",
    "version": 2
   },
   "file_extension": ".py",
   "mimetype": "text/x-python",
   "name": "python",
   "nbconvert_exporter": "python",
   "pygments_lexer": "ipython2",
   "version": "2.7.10"
  }
 },
 "nbformat": 4,
 "nbformat_minor": 0
}
